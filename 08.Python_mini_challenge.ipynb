{
 "cells": [
  {
   "cell_type": "markdown",
   "metadata": {},
   "source": [
    "# Python Mini Challenges\n",
    "The most entertaining(and satisfying) way to improve your skills in a programming language is by doing challenges. Every challenge that is given in this assessment module can be solved by a bit of python programming and logical thinking.\n",
    "Some challenges may look easy,some may look tough but we hope you solve them all with the same vigour.\n",
    "All the best."
   ]
  },
  {
   "cell_type": "markdown",
   "metadata": {},
   "source": [
    "# Challenge 1: Next Smallest Palindrome\n",
    "Create a function called palindrome(num) that given a number 'num', finds the next smallest palindrome and returns it\n",
    "For eg:\n",
    "\n",
    "# Input\n",
    "palindrome(123)\n",
    "# Output\n",
    "131"
   ]
  },
  {
   "cell_type": "code",
   "execution_count": 1,
   "metadata": {},
   "outputs": [],
   "source": [
    "#Code starts here\n",
    "\n",
    "def palindrome(num):\n",
    "    'Returns the next smallest palindrome for the given number'\n",
    "    num +=1\n",
    "    while str(num) != str(num)[::-1]:\n",
    "        num +=1\n",
    "    return num\n",
    "#Code ends here        "
   ]
  },
  {
   "cell_type": "code",
   "execution_count": 2,
   "metadata": {},
   "outputs": [
    {
     "data": {
      "text/plain": [
       "1441"
      ]
     },
     "execution_count": 2,
     "metadata": {},
     "output_type": "execute_result"
    }
   ],
   "source": [
    "palindrome (1440)"
   ]
  },
  {
   "cell_type": "markdown",
   "metadata": {},
   "source": [
    "# Challenge 2: Anagram Scramble\n",
    "Create a function called 'a_scramble(str_1, str_2)' that given the strings'str_1','str_2' returns True if a portion of 'str_1' characters can be scrambled to match 'str2', else return False\n",
    "For eg:\n",
    "# Input\n",
    "a_scramble(\"Tom Marvolo Riddle\",\"Voldemort\")\n",
    "# Output\n",
    "True"
   ]
  },
  {
   "cell_type": "code",
   "execution_count": 3,
   "metadata": {},
   "outputs": [],
   "source": [
    "#Code starts here\n",
    "\n",
    "from collections import Counter\n",
    "def a_scramble(str_1, str_2):\n",
    "    'Check is a given string is an anagram of the other'\n",
    "    string_1 = str_1.lower()\n",
    "    string_2 = str_2.lower()\n",
    "    \n",
    "    str_1_dict = Counter(string_1)\n",
    "    str_2_dict = Counter(string_2)\n",
    "    keys_str_1 = sorted(list(str_1_dict.keys()))\n",
    "    keys_str_2 = sorted(list(str_2_dict.keys()))\n",
    "    \n",
    "    temp_list=[]\n",
    "    \n",
    "    for x in str_2_dict:\n",
    "        if str_2_dict[x]<=str_1_dict[x]:\n",
    "            temp_list.append(x)\n",
    "        else:\n",
    "            0  \n",
    "                \n",
    "    if len(temp_list)==len(keys_str_2):\n",
    "        return True\n",
    "    else:\n",
    "        return False\n",
    "#Code ends here"
   ]
  },
  {
   "cell_type": "code",
   "execution_count": 4,
   "metadata": {},
   "outputs": [
    {
     "data": {
      "text/plain": [
       "True"
      ]
     },
     "execution_count": 4,
     "metadata": {},
     "output_type": "execute_result"
    }
   ],
   "source": [
    "a_scramble (\"Tom Marvolo Riddle\",\"Voldemort\")"
   ]
  },
  {
   "cell_type": "code",
   "execution_count": 9,
   "metadata": {},
   "outputs": [
    {
     "data": {
      "text/plain": [
       "True"
      ]
     },
     "execution_count": 9,
     "metadata": {},
     "output_type": "execute_result"
    }
   ],
   "source": [
    "a_scramble(\"group chat\",\"chatur\")"
   ]
  },
  {
   "cell_type": "markdown",
   "metadata": {},
   "source": [
    "# Challenge 3: Fibonacci Check\n",
    "Create a function called check_fib(num) that checks if the given number 'num' is part of the fibonacci sequence and returns True if it is, else False\n",
    "For eg:\n",
    "# Input\n",
    "check_fib(145)\n",
    "# Output\n",
    "False\n",
    "# Input\n",
    "check_fib(377)\n",
    "# Output\n",
    "True"
   ]
  },
  {
   "cell_type": "code",
   "execution_count": 10,
   "metadata": {},
   "outputs": [],
   "source": [
    "#Importing header files\n",
    "from math import sqrt\n",
    "\n",
    "#Code starts here\n",
    "\n",
    "def check_perfect_square(num):\n",
    "    sqr = int(sqrt(num))\n",
    "    if sqr*sqr == num:\n",
    "        return True\n",
    "    else:\n",
    "        return False\n",
    "\n",
    "\n",
    "def check_fib(num):\n",
    "    'Checks if the number is part of fibonacci sequence'\n",
    "    p1 = 5 * (num*num) + 4\n",
    "    p2 = 5 * (num*num) - 4\n",
    "\n",
    "    if check_perfect_square(p1) or check_perfect_square(p2):\n",
    "        return True\n",
    "    else:\n",
    "        return False\n",
    "\n",
    "#Code ends here"
   ]
  },
  {
   "cell_type": "code",
   "execution_count": 11,
   "metadata": {},
   "outputs": [
    {
     "name": "stdout",
     "output_type": "stream",
     "text": [
      "True\n"
     ]
    }
   ],
   "source": [
    "print(check_fib (8))"
   ]
  },
  {
   "cell_type": "markdown",
   "metadata": {},
   "source": [
    "# Challenge 4: String Compression\n",
    "\n",
    "Write a function `compress(word)` that given a word `word` returns the string with it's letters and how many times they occur continously together.\n",
    "\n",
    "For eg:\n",
    "\n",
    "***\n",
    "**Input**\n",
    "\n",
    "```python\n",
    "a_scramble(\"abbs\")\n",
    "```\n",
    "\n",
    "**Output**\n",
    "```python\n",
    "\"a1b2s1\"\n",
    "```\n",
    "Explanation: 1 occurence of `a`, followed by 2 occurences of `b`, followed by 1 occurence of `s`\n",
    "***\n",
    "**Input**\n",
    "\n",
    "```python\n",
    "compress(\"xxcccdex\")\n",
    "```\n",
    "\n",
    "**Output**\n",
    "```python\n",
    "\"x2c3d1e1x1\"\n",
    "```\n",
    "\n",
    "Explanation: 2 occurences of `x`, followed by 3 occurences of `c`, followed by 1 occurence of `d`, followed by 1 occurence of `e`, followed by 1 occurence of `x`"
   ]
  },
  {
   "cell_type": "code",
   "execution_count": 12,
   "metadata": {},
   "outputs": [],
   "source": [
    "#Code starts here\n",
    "#Code starts here\n",
    "def compress(word):\n",
    "    ' Gives the consecutive occurances of the each letter in a given word '\n",
    "    res = \"\"\n",
    "    count = 1\n",
    "\n",
    "    #Add in first character\n",
    "    res += word[0]\n",
    "\n",
    "    #Iterate through loop, skipping last one\n",
    "    for i in range(len(word)-1):\n",
    "        if(word[i] == word[i+1]):\n",
    "            count+=1\n",
    "        else:\n",
    "            if(count >= 1):\n",
    "                #Ignore if no repeats\n",
    "                res += str(count)\n",
    "            res += word[i+1]\n",
    "            count = 1\n",
    "    #print last one\n",
    "    if(count >= 1):\n",
    "        res += str(count)\n",
    "    return res\n",
    "\n",
    "#Code ends here"
   ]
  },
  {
   "cell_type": "code",
   "execution_count": 13,
   "metadata": {},
   "outputs": [
    {
     "data": {
      "text/plain": [
       "'x2c3d1e1x1'"
      ]
     },
     "execution_count": 13,
     "metadata": {},
     "output_type": "execute_result"
    }
   ],
   "source": [
    "compress(\"xxcccdex\")"
   ]
  },
  {
   "cell_type": "markdown",
   "metadata": {},
   "source": [
    "# Challenge 5: K-Distinct\n",
    "\n",
    "Write a function `k_distinct(string,k)` that given a string `'string'` and number `'k'`, it checks whether the `'string'` has `'k'` distinct characters\n",
    "\n",
    "For eg:\n",
    "***\n",
    "**Input**\n",
    "\n",
    "```python\n",
    "k_distinct('Messoptamia',8)\n",
    "```\n",
    "\n",
    "**Output**\n",
    "```python\n",
    "True\n",
    "```\n",
    "***\n",
    "**Input**\n",
    "\n",
    "```python\n",
    "k_distinct('banana',4)\n",
    "```\n",
    "\n",
    "**Output**\n",
    "```python\n",
    "False\n",
    "```\n"
   ]
  },
  {
   "cell_type": "code",
   "execution_count": 15,
   "metadata": {},
   "outputs": [],
   "source": [
    "#Code starts here\n",
    "\n",
    "import pandas as pd\n",
    "\n",
    "def unique_elements_length(string):\n",
    "    'Checks the number of unique elements in a string'\n",
    "    print('String Entered : ',string)\n",
    "    test_string = string\n",
    "    test_string_list = list(test_string.lower())\n",
    "    unique_list=[]\n",
    "    for x in test_string_list:\n",
    "        if x not in unique_list:\n",
    "            unique_list.append(x)\n",
    "    length_unique = len(unique_list)\n",
    "    print('Length of Unique Elements in the String : ',length_unique)\n",
    "    i=1\n",
    "    for x in unique_list:\n",
    "        print ('Unique Element {} : {}'.format(i,x))\n",
    "        i+=1\n",
    "    return length_unique\n",
    "    \n",
    "def k_distinct(string, k):\n",
    "    'Checks whether the string has as many distinct numbers as the entered number'\n",
    "    if unique_elements_length(string) == k:\n",
    "        return True\n",
    "    else:\n",
    "        return False\n",
    "\n",
    "#Code ends here"
   ]
  },
  {
   "cell_type": "code",
   "execution_count": 16,
   "metadata": {},
   "outputs": [
    {
     "name": "stdout",
     "output_type": "stream",
     "text": [
      "String Entered :  Messoptamia\n",
      "Length of Unique Elements in the String :  8\n",
      "Unique Element 1 : m\n",
      "Unique Element 2 : e\n",
      "Unique Element 3 : s\n",
      "Unique Element 4 : o\n",
      "Unique Element 5 : p\n",
      "Unique Element 6 : t\n",
      "Unique Element 7 : a\n",
      "Unique Element 8 : i\n"
     ]
    },
    {
     "data": {
      "text/plain": [
       "True"
      ]
     },
     "execution_count": 16,
     "metadata": {},
     "output_type": "execute_result"
    }
   ],
   "source": [
    "k_distinct('Messoptamia',8)"
   ]
  },
  {
   "cell_type": "markdown",
   "metadata": {},
   "source": [
    "# MATRIX ROTATION"
   ]
  },
  {
   "cell_type": "markdown",
   "metadata": {},
   "source": [
    " \n",
    "\"\"\"\n",
    "In this problem, we want to rotate the matrix elements by 90, 180, 270 (counterclockwise)\n",
    "Discussion in stackoverflow:\n",
    "https://stackoverflow.com/questions/42519/how-do-you-rotate-a-two-dimensional-array\n",
    "\"\"\""
   ]
  },
  {
   "cell_type": "code",
   "execution_count": 1,
   "metadata": {},
   "outputs": [
    {
     "name": "stdout",
     "output_type": "stream",
     "text": [
      "\n",
      "origin:\n",
      "\n",
      "1 2 3 4\n",
      "5 6 7 8\n",
      "9 10 11 12\n",
      "13 14 15 16\n",
      "\n",
      "rotate 90 counterclockwise:\n",
      "\n",
      "4 8 12 16\n",
      "3 7 11 15\n",
      "2 6 10 14\n",
      "1 5 9 13\n",
      "\n",
      "origin:\n",
      "\n",
      "1 2 3 4\n",
      "5 6 7 8\n",
      "9 10 11 12\n",
      "13 14 15 16\n",
      "\n",
      "rotate 180:\n",
      "\n",
      "16 15 14 13\n",
      "12 11 10 9\n",
      "8 7 6 5\n",
      "4 3 2 1\n",
      "\n",
      "origin:\n",
      "\n",
      "1 2 3 4\n",
      "5 6 7 8\n",
      "9 10 11 12\n",
      "13 14 15 16\n",
      "\n",
      "rotate 270 counterclockwise:\n",
      "\n",
      "13 9 5 1\n",
      "14 10 6 2\n",
      "15 11 7 3\n",
      "16 12 8 4\n"
     ]
    }
   ],
   "source": [
    "def make_matrix(row_size: int = 4) -> [[int]]:\n",
    "    \"\"\"\n",
    "    >>> make_matrix()\n",
    "    [[1, 2, 3, 4], [5, 6, 7, 8], [9, 10, 11, 12], [13, 14, 15, 16]]\n",
    "    >>> make_matrix(1)\n",
    "    [[1]]\n",
    "    >>> make_matrix(-2)\n",
    "    [[1, 2], [3, 4]]\n",
    "    >>> make_matrix(3)\n",
    "    [[1, 2, 3], [4, 5, 6], [7, 8, 9]]\n",
    "    >>> make_matrix() == make_matrix(4)\n",
    "    True\n",
    "    \"\"\"\n",
    "    row_size = abs(row_size) or 4\n",
    "    return [[1 + x + y * row_size for x in range(row_size)] for y in range(row_size)]\n",
    "\n",
    "\n",
    "def rotate_90(matrix: [[]]) -> [[]]:\n",
    "    \"\"\"\n",
    "    >>> rotate_90(make_matrix())\n",
    "    [[4, 8, 12, 16], [3, 7, 11, 15], [2, 6, 10, 14], [1, 5, 9, 13]]\n",
    "    >>> rotate_90(make_matrix()) == transpose(reverse_column(make_matrix()))\n",
    "    True\n",
    "    \"\"\"\n",
    "\n",
    "    return reverse_row(transpose(matrix))\n",
    "    # OR.. transpose(reverse_column(matrix))\n",
    "\n",
    "\n",
    "def rotate_180(matrix: [[]]) -> [[]]:\n",
    "    \"\"\"\n",
    "    >>> rotate_180(make_matrix())\n",
    "    [[16, 15, 14, 13], [12, 11, 10, 9], [8, 7, 6, 5], [4, 3, 2, 1]]\n",
    "    >>> rotate_180(make_matrix()) == reverse_column(reverse_row(make_matrix()))\n",
    "    True\n",
    "    \"\"\"\n",
    "\n",
    "    return reverse_row(reverse_column(matrix))\n",
    "    # OR.. reverse_column(reverse_row(matrix))\n",
    "\n",
    "\n",
    "def rotate_270(matrix: [[]]) -> [[]]:\n",
    "    \"\"\"\n",
    "    >>> rotate_270(make_matrix())\n",
    "    [[13, 9, 5, 1], [14, 10, 6, 2], [15, 11, 7, 3], [16, 12, 8, 4]]\n",
    "    >>> rotate_270(make_matrix()) == transpose(reverse_row(make_matrix()))\n",
    "    True\n",
    "    \"\"\"\n",
    "\n",
    "    return reverse_column(transpose(matrix))\n",
    "    # OR.. transpose(reverse_row(matrix))\n",
    "\n",
    "\n",
    "def transpose(matrix: [[]]) -> [[]]:\n",
    "    matrix[:] = [list(x) for x in zip(*matrix)]\n",
    "    return matrix\n",
    "\n",
    "\n",
    "def reverse_row(matrix: [[]]) -> [[]]:\n",
    "    matrix[:] = matrix[::-1]\n",
    "    return matrix\n",
    "\n",
    "\n",
    "def reverse_column(matrix: [[]]) -> [[]]:\n",
    "    matrix[:] = [x[::-1] for x in matrix]\n",
    "    return matrix\n",
    "\n",
    "\n",
    "def print_matrix(matrix: [[]]) -> [[]]:\n",
    "    for i in matrix:\n",
    "        print(*i)\n",
    "\n",
    "\n",
    "if __name__ == \"__main__\":\n",
    "    matrix = make_matrix()\n",
    "    print(\"\\norigin:\\n\")\n",
    "    print_matrix(matrix)\n",
    "    print(\"\\nrotate 90 counterclockwise:\\n\")\n",
    "    print_matrix(rotate_90(matrix))\n",
    "\n",
    "    matrix = make_matrix()\n",
    "    print(\"\\norigin:\\n\")\n",
    "    print_matrix(matrix)\n",
    "    print(\"\\nrotate 180:\\n\")\n",
    "    print_matrix(rotate_180(matrix))\n",
    "\n",
    "    matrix = make_matrix()\n",
    "    print(\"\\norigin:\\n\")\n",
    "    print_matrix(matrix)\n",
    "    print(\"\\nrotate 270 counterclockwise:\\n\")\n",
    "    print_matrix(rotate_270(matrix))"
   ]
  }
 ],
 "metadata": {
  "kernelspec": {
   "display_name": "Python 3",
   "language": "python",
   "name": "python3"
  },
  "language_info": {
   "codemirror_mode": {
    "name": "ipython",
    "version": 3
   },
   "file_extension": ".py",
   "mimetype": "text/x-python",
   "name": "python",
   "nbconvert_exporter": "python",
   "pygments_lexer": "ipython3",
   "version": "3.7.1"
  }
 },
 "nbformat": 4,
 "nbformat_minor": 2
}
